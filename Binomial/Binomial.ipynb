{
 "cells": [
  {
   "cell_type": "code",
   "execution_count": 1,
   "metadata": {},
   "outputs": [],
   "source": [
    "### Library Import Initialization\n",
    "\n",
    "import numpy as np\n",
    "import math\n",
    "import pandas as pd\n",
    "import yfinance as yf\n",
    "import matplotlib.pyplot as plt\n",
    "import seaborn as sns\n",
    "from scipy.stats import norm\n",
    "import warnings\n",
    "warnings.filterwarnings(\"ignore\")"
   ]
  },
  {
   "cell_type": "code",
   "execution_count": 2,
   "metadata": {},
   "outputs": [
    {
     "name": "stderr",
     "output_type": "stream",
     "text": [
      "[*********************100%%**********************]  1 of 1 completed\n"
     ]
    },
    {
     "data": {
      "text/plain": [
       "169.8300018310547"
      ]
     },
     "execution_count": 2,
     "metadata": {},
     "output_type": "execute_result"
    }
   ],
   "source": [
    "### Function to Import Stock Tickers and Calculate Final Stock Price\n",
    "\n",
    "def import_stock_data(tickers, start_date):\n",
    "    data = pd.DataFrame()\n",
    "    if len([tickers]) == 1:\n",
    "        data[tickers] = yf.download(tickers, start_date)['Adj Close']\n",
    "        data = pd.DataFrame(data)\n",
    "    else:\n",
    "        for t in tickers:\n",
    "            data[t] = yf.download(tickers, start_date)['Adj Close']\n",
    "    return data\n",
    "\n",
    "tickers = 'GOOG'\n",
    "stock_data = import_stock_data(tickers, '2018-01-01')\n",
    "# Get the Current Stock Price (Starting Node of Tree)\n",
    "S_0 = stock_data[tickers].iloc[-1]\n",
    "S_0"
   ]
  },
  {
   "cell_type": "code",
   "execution_count": 3,
   "metadata": {},
   "outputs": [
    {
     "data": {
      "text/plain": [
       "0.33680480663618234"
      ]
     },
     "execution_count": 3,
     "metadata": {},
     "output_type": "execute_result"
    }
   ],
   "source": [
    "### Sigma Calculation \n",
    "def compute_sigma(data):\n",
    "    # Compute the standard deviation of returns\n",
    "    sigma = np.std(data) / 100\n",
    "    return sigma\n",
    "\n",
    "get_sigma = compute_sigma(stock_data)\n",
    "sigma = get_sigma.values[0]\n",
    "sigma\n"
   ]
  },
  {
   "cell_type": "code",
   "execution_count": 4,
   "metadata": {},
   "outputs": [
    {
     "name": "stdout",
     "output_type": "stream",
     "text": [
      "The value of the put option price is: 6.6103\n",
      "Up Factor: 0.0343\n",
      "Down Factor: 0.0331\n"
     ]
    }
   ],
   "source": [
    "### Function to Compute the Binomial Expected Value \n",
    "\n",
    "def american_binomial_model(S_0, K, T, r, sigma, option_type = 'call', n = 1000):\n",
    "    \"\"\"\n",
    "    Parameters:\n",
    "    S_0 (float): Current stock price (starting node of tree)\n",
    "    K (float): Strike price of the option\n",
    "    T (float): Time to expiration (in years)\n",
    "    r (float): Risk-free interest rate\n",
    "    sigma (float): Volatility of the underlying stock\n",
    "    option_type (str): Type of option ('call' or 'put')\n",
    "    n (int): Number of steps in the binomial tree\n",
    "    Returns:\n",
    "    float: Option price\n",
    "    \"\"\"\n",
    "    # Compute Delta T\n",
    "    dt = T / n\n",
    "    # Compute up and down parameters\n",
    "    u = np.exp(sigma * np.sqrt(dt))\n",
    "    d = np.exp(-(sigma * np.sqrt(dt)))\n",
    "    # Compute probability of Increase (Probability of a decrease is 1 - p)\n",
    "    p = (np.exp(r * dt) - d) / (u - d)\n",
    "\n",
    "    # Init arrays for strike prices and option values\n",
    "    S_n = np.zeros((n + 1, n + 1))\n",
    "    option_values = np.zeros((n + 1, n + 1))\n",
    "\n",
    "    # Generate the stock prices at each node S_n (points on Binomial Tree)\n",
    "    ''' \n",
    "    The expression essentially computes the stock price at node n by starting from the initial price S_0​ and multiplying it by the \n",
    "    factors u and d corresponding to the number of up and down movements, respectively, needed to reach node n.\n",
    "    S_n​ = S_0 * u^m * d^(n−m)\n",
    "    m (int): Number of up movements from the initial node to node n, calculated as m = n - i\n",
    "    '''\n",
    "    for j in range(n+1):\n",
    "        for i in range(n+1):\n",
    "            S_n[i, j] = S_0 * (u ** (j - i)) * (d ** i)\n",
    "\n",
    "    # Compute the option value (intrinsic value) at the final node\n",
    "    for i in range(n+1):\n",
    "        if option_type == 'call':\n",
    "            option_values[i, n] = max((S_n[i, n] - K), 0)\n",
    "\n",
    "        if option_type == 'put':    \n",
    "            option_values[i] = max((K - S_n[i, n]), 0)\n",
    "    #return option_values\n",
    "\n",
    "    # Recursively iterate through the tree backwards to compute the option values at previous nodes\n",
    "    # Outer loop iterates over the time steps of the binomial tree in reverse order, starting from the last time step (n) and ending at the first time step (1)\n",
    "    for j in range(n - 1, -1, -1):\n",
    "    # Inner loop iterates over each node at each time step\n",
    "        for i in range(j + 1):\n",
    "            option_values[i, j] = np.exp(-r * dt) * (p * option_values[i, j + 1] + (1-p) * option_values[i + 1, j + 1])\n",
    "    \n",
    "    # Return the option value at the initial node\n",
    "    option_value = option_values[0, 0]\n",
    "\n",
    "    # Calculate uptick and downtick values\n",
    "    up_factor = u - 1\n",
    "    down_factor = 1 - d\n",
    "\n",
    "    return option_value, up_factor, down_factor\n",
    "\n",
    "### Function Output\n",
    "option_type = 'put'\n",
    "option_val, up_factor, down_factor = american_binomial_model(S_0, K = 139, T = 1, r = 0.05, sigma = sigma, option_type = option_type, n = 100)\n",
    "print('The value of the ' + option_type + ' option price is: ' + str(round(option_val, 4)))\n",
    "print('Up Factor: ' + str(round(up_factor, 4)))\n",
    "print('Down Factor: ' + str(round(down_factor, 4)))\n"
   ]
  },
  {
   "cell_type": "code",
   "execution_count": 5,
   "metadata": {},
   "outputs": [
    {
     "name": "stdout",
     "output_type": "stream",
     "text": [
      "The value of the put option price is: 4.6277, and the value is supposed to be: 4.6277\n",
      "Up Factor: 0.0995\n",
      "Down Factor: 0.0905\n"
     ]
    }
   ],
   "source": [
    "### Manual Test (Accuracy Check)\n",
    "option_test, up_factor, down_factor = american_binomial_model(S_0 = 100, K = 95, T = 0.5, r = 0.08, sigma = 0.3, option_type = 'put', n = 5)\n",
    "print('The value of the ' + option_type + ' option price is: ' + str(round(option_test, 4)) + ', and the value is supposed to be: 4.6277')\n",
    "print('Up Factor: ' + str(round(up_factor, 4)))\n",
    "print('Down Factor: ' + str(round(down_factor, 4)))"
   ]
  }
 ],
 "metadata": {
  "kernelspec": {
   "display_name": "base",
   "language": "python",
   "name": "python3"
  },
  "language_info": {
   "codemirror_mode": {
    "name": "ipython",
    "version": 3
   },
   "file_extension": ".py",
   "mimetype": "text/x-python",
   "name": "python",
   "nbconvert_exporter": "python",
   "pygments_lexer": "ipython3",
   "version": "3.8.18"
  }
 },
 "nbformat": 4,
 "nbformat_minor": 2
}
