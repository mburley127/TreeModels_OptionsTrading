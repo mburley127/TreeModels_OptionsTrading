{
 "cells": [
  {
   "cell_type": "code",
   "execution_count": 95,
   "metadata": {},
   "outputs": [],
   "source": [
    "### Library Import Initialization\n",
    "\n",
    "import numpy as np\n",
    "import math\n",
    "import pandas as pd\n",
    "import yfinance as yf\n",
    "import matplotlib.pyplot as plt\n",
    "import seaborn as sns\n",
    "from scipy.stats import norm\n",
    "import warnings\n",
    "warnings.filterwarnings(\"ignore\")"
   ]
  },
  {
   "cell_type": "code",
   "execution_count": 96,
   "metadata": {},
   "outputs": [
    {
     "name": "stderr",
     "output_type": "stream",
     "text": [
      "[*********************100%%**********************]  1 of 1 completed"
     ]
    },
    {
     "name": "stdout",
     "output_type": "stream",
     "text": [
      "153.94000244140625\n"
     ]
    },
    {
     "name": "stderr",
     "output_type": "stream",
     "text": [
      "\n"
     ]
    }
   ],
   "source": [
    "### Function to Import Stock Tickers and Calculate Final Stock Price\n",
    "\n",
    "def import_stock_data(tickers, start_date):\n",
    "    data = pd.DataFrame()\n",
    "    if len([tickers]) == 1:\n",
    "        data[tickers] = yf.download(tickers, start_date)['Adj Close']\n",
    "        data = pd.DataFrame(data)\n",
    "    else:\n",
    "        for t in tickers:\n",
    "            data[t] = yf.download(tickers, start_date)['Adj Close']\n",
    "    return data\n",
    "\n",
    "tickers = 'GOOG'\n",
    "stock_data = import_stock_data(tickers, '2018-01-01')\n",
    "# Get the Current Stock Price (Starting Node of Tree)\n",
    "S_0 = stock_data[tickers].iloc[-1]\n",
    "print(S_0)"
   ]
  },
  {
   "cell_type": "code",
   "execution_count": 97,
   "metadata": {},
   "outputs": [
    {
     "data": {
      "text/plain": [
       "0.32998271375161553"
      ]
     },
     "execution_count": 97,
     "metadata": {},
     "output_type": "execute_result"
    }
   ],
   "source": [
    "### Sigma Calculation \n",
    "\n",
    "### Sigma Calculation \n",
    "def compute_sigma(data):\n",
    "    # Compute the standard deviation of returns\n",
    "    sigma = np.std(data) / 100\n",
    "    return sigma\n",
    "\n",
    "get_sigma = compute_sigma(stock_data)\n",
    "sigma = get_sigma.values[0]\n",
    "sigma"
   ]
  },
  {
   "cell_type": "code",
   "execution_count": 98,
   "metadata": {},
   "outputs": [],
   "source": [
    "### Function to Compute the Trinomial Model Option Price\n",
    "\n",
    "def trinomial_model(S_0, K, T, r, b, sigma, option_type, n):\n",
    "    \"\"\"\n",
    "    Parameters:\n",
    "    S_0 (float): Current stock price (starting node of tree)\n",
    "    K (float): Strike price of the option\n",
    "    T (float): Time to expiration (in years)\n",
    "    r (float): Risk-free interest rate\n",
    "    sigma (float): Volatility of the underlying stock\n",
    "    option_type (str): Type of option ('call' or 'put')\n",
    "    n (int): Number of steps in the binomial tree\n",
    "    \"\"\"\n",
    "    # Logic to change sign of option calculation\n",
    "    if option_type == 'call':\n",
    "        z = 1\n",
    "    elif option_type == 'put':\n",
    "        z = -1\n",
    "    \n",
    "    # Compute dt and Df\n",
    "    dt = T / n\n",
    "    # Compute up and down parameters\n",
    "    u = np.exp(sigma * np.sqrt(2 * dt))\n",
    "    d = np.exp(-sigma * np.sqrt(2 * dt))\n",
    "\n",
    "    # Compute probability of Increase, Decrease, and No Change\n",
    "    p_u = ((np.exp((b * dt) / 2) - np.exp(-sigma * np.sqrt(dt / 2))) / \n",
    "          (np.exp(sigma * np.sqrt(dt / 2)) - np.exp(-sigma * np.sqrt(dt / 2)))) ** 2\n",
    "    p_d = ((np.exp(sigma * np.sqrt(dt / 2)) - (np.exp((b * dt) / 2))) / \n",
    "       (np.exp(sigma * np.sqrt(dt / 2)) - np.exp(-sigma * np.sqrt(dt / 2)))) ** 2\n",
    "    p_m = 1 - p_u - p_d\n",
    "\n",
    "    # Init arrays for strike prices and option values\n",
    "    option_values = np.zeros(2*n + 1)\n",
    "\n",
    "    # Calculate option values at maturity by caluclating the optimal option value at each node i for 2n+1 nodes to to reach the final time step\n",
    "    for i in range(2 * n + 1):\n",
    "        option_values[i] = max(0, z * (S_0 * u ** max(i - n, 0) * d ** max(n - i, 0) - K))\n",
    "    \n",
    "    # Backward induction to calculate option values at earlier time points\n",
    "    for j in range(n - 1, -1, -1):\n",
    "        for i in range(j * 2 + 1):\n",
    "            option_values[i] = np.exp(-r*dt) * (p_u * option_values[i + 2] + p_m * option_values[i + 1] + p_d * option_values[i])\n",
    "\n",
    "    return option_values[0]\n"
   ]
  },
  {
   "cell_type": "code",
   "execution_count": 110,
   "metadata": {},
   "outputs": [
    {
     "name": "stdout",
     "output_type": "stream",
     "text": [
      "The trinomial calculation gives an Option Value: 10.1247\n"
     ]
    }
   ],
   "source": [
    "### Function call and outputs\n",
    "K = 155   # Strike price of the option\n",
    "T = 0.5   # Time to expiration (in years)\n",
    "r = 0.08 # Risk-free interest rate\n",
    "b = 0.05 # Cost of carry\n",
    "n = 100  # Number of steps in the trinomial tree\n",
    "option_type = \"put\" \n",
    "\n",
    "OptionValue = trinomial_model(S_0, K, T, r, b, sigma, option_type, n)\n",
    "print(\"The trinomial calculation gives an Option Value: \" + str(round(OptionValue, 4)))\n"
   ]
  },
  {
   "cell_type": "code",
   "execution_count": 107,
   "metadata": {},
   "outputs": [
    {
     "name": "stdout",
     "output_type": "stream",
     "text": [
      "The trinomial calculation gives an Option Value: 11.8521, and the value is supposed to be: 11.6493\n"
     ]
    }
   ],
   "source": [
    "### Test Case\n",
    "S_1 = 100  # Current price of the underlying asset\n",
    "K = 110   # Strike price of the option\n",
    "T = 0.5   # Time to expiration (in years)\n",
    "r = 0.08 # Risk-free interest rate\n",
    "sigma = 0.27  # Volatility\n",
    "b = 0.05 # Cost of carry\n",
    "n = 30  # Number of steps in the trinomial tree\n",
    "option_type = \"put\"  # \"c\" for call option, \"p\" for put option\n",
    "\n",
    "OptionValue = trinomial_model(S_1, K, T, r, b, sigma, option_type, n)\n",
    "print(\"The trinomial calculation gives an Option Value: \" + str(round(OptionValue, 4)) + \", and the value is supposed to be: 11.6493\")"
   ]
  }
 ],
 "metadata": {
  "kernelspec": {
   "display_name": "base",
   "language": "python",
   "name": "python3"
  },
  "language_info": {
   "codemirror_mode": {
    "name": "ipython",
    "version": 3
   },
   "file_extension": ".py",
   "mimetype": "text/x-python",
   "name": "python",
   "nbconvert_exporter": "python",
   "pygments_lexer": "ipython3",
   "version": "3.8.18"
  }
 },
 "nbformat": 4,
 "nbformat_minor": 2
}
